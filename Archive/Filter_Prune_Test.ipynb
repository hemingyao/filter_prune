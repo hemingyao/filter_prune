{
 "cells": [
  {
   "cell_type": "code",
   "execution_count": 1,
   "metadata": {
    "collapsed": true,
    "deletable": true,
    "editable": true
   },
   "outputs": [],
   "source": [
    "import tensorflow as tf\n",
    "import numpy as np\n",
    "import math\n",
    "import os\n",
    "from tensorflow.python.framework import ops\n",
    "import tflearn_dev\n",
    "import Model\n",
    "import matplotlib.pyplot as plt\n",
    "%matplotlib inline  "
   ]
  },
  {
   "cell_type": "code",
   "execution_count": 7,
   "metadata": {
    "collapsed": true,
    "deletable": true,
    "editable": true
   },
   "outputs": [],
   "source": [
    "trained_path = './Filter_Prune/log/rescale_fc_potential_lr_0.0001_wd_100_Sep_20_14_49/model/vali_0.853-3900'\n",
    "sel_layer_names = ['conv_1', 'conv_2', 'conv_3', 'conv_4', 'conv_5', 'conv_6']\n"
   ]
  },
  {
   "cell_type": "code",
   "execution_count": 8,
   "metadata": {
    "collapsed": false,
    "deletable": true,
    "editable": true
   },
   "outputs": [
    {
     "name": "stdout",
     "output_type": "stream",
     "text": [
      "INFO:tensorflow:Restoring parameters from ./Filter_Prune/log/rescale_fc_potential_lr_0.0001_wd_100_Sep_20_14_49/model/vali_0.853-3900\n",
      "Model restored from  ./Filter_Prune/log/rescale_fc_potential_lr_0.0001_wd_100_Sep_20_14_49/model/vali_0.853-3900\n"
     ]
    }
   ],
   "source": [
    "os.environ[\"CUDA_VISIBLE_DEVICES\"]=\"3\" \n",
    "tf_config=tf.ConfigProto() \n",
    "tf_config.gpu_options.allow_growth=True \n",
    "tf_config.gpu_options.per_process_gpu_memory_fraction=0.9\n",
    "sess = tf.InteractiveSession(config=tf_config)\n",
    "\n",
    "saver = tf.train.import_meta_graph(trained_path+'.meta')\n",
    "saver.restore(sess, trained_path)\n",
    "print('Model restored from ', trained_path)\n"
   ]
  },
  {
   "cell_type": "code",
   "execution_count": 9,
   "metadata": {
    "collapsed": false,
    "deletable": true,
    "editable": true
   },
   "outputs": [
    {
     "data": {
      "text/plain": [
       "[<tf.Variable 'global_step:0' shape=() dtype=int64_ref>,\n",
       " <tf.Variable 'conv_1/W:0' shape=(3, 3, 3, 128) dtype=float32_ref>,\n",
       " <tf.Variable 'conv_1/scale/fc1/W:0' shape=(128, 4) dtype=float32_ref>,\n",
       " <tf.Variable 'conv_1/scale/fc1/b:0' shape=(4,) dtype=float32_ref>,\n",
       " <tf.Variable 'conv_1/scale/fc2/W:0' shape=(4, 128) dtype=float32_ref>,\n",
       " <tf.Variable 'conv_1/scale/fc2/b:0' shape=(128,) dtype=float32_ref>,\n",
       " <tf.Variable 'conv_1/b:0' shape=(128,) dtype=float32_ref>,\n",
       " <tf.Variable 'conv_2/W:0' shape=(3, 3, 128, 128) dtype=float32_ref>,\n",
       " <tf.Variable 'conv_2/scale/fc1/W:0' shape=(128, 4) dtype=float32_ref>,\n",
       " <tf.Variable 'conv_2/scale/fc1/b:0' shape=(4,) dtype=float32_ref>]"
      ]
     },
     "execution_count": 9,
     "metadata": {},
     "output_type": "execute_result"
    }
   ],
   "source": [
    "variables = tf.global_variables()\n",
    "variables[0:10]"
   ]
  },
  {
   "cell_type": "code",
   "execution_count": 30,
   "metadata": {
    "collapsed": false,
    "deletable": true,
    "editable": true
   },
   "outputs": [],
   "source": [
    "var = [v for v in tf.global_variables() if v.name == 'conv_1/W:0'][0]\n",
    "out_dim = weight.shape[-1]"
   ]
  },
  {
   "cell_type": "code",
   "execution_count": 51,
   "metadata": {
    "collapsed": true,
    "deletable": true,
    "editable": true
   },
   "outputs": [],
   "source": [
    "def inner_fc(norm, W1, b1, W2, b2):\n",
    "    out = np.matmul(norm, W1) + b1\n",
    "    out = (abs(out) + out) / 2\n",
    "    out = np.matmul(out, W2) + b2\n",
    "    scale = 1 / (1 + np.exp(-out))\n",
    "    return scale"
   ]
  },
  {
   "cell_type": "code",
   "execution_count": 42,
   "metadata": {
    "collapsed": false,
    "deletable": true,
    "editable": true
   },
   "outputs": [],
   "source": [
    "layer_name = 'conv_1'\n",
    "weight = [v for v in tf.global_variables() if v.name == layer_name+'/W:0'][0]\n",
    "weight = weight.eval()\n",
    "num_filter = weight.shape[-1]\n",
    "ls = []\n",
    "for out in range(0,num_filter):\n",
    "    each_filter = weight[:,:,:,out]\n",
    "    l = np.linalg.norm(each_filter.reshape(-1),ord=1)\n",
    "    ls.append(l)\n",
    "\n",
    "scale_fc_W1 = [v for v in tf.global_variables() if v.name == layer_name+'/scale/fc1/W:0'][0]\n",
    "scale_fc_b1 = [v for v in tf.global_variables() if v.name == layer_name+'/scale/fc1/b:0'][0]\n",
    "scale_fc_W2 = [v for v in tf.global_variables() if v.name == layer_name+'/scale/fc2/W:0'][0]\n",
    "scale_fc_b2 = [v for v in tf.global_variables() if v.name == layer_name+'/scale/fc2/b:0'][0]\n",
    "\n"
   ]
  },
  {
   "cell_type": "code",
   "execution_count": 60,
   "metadata": {
    "collapsed": false,
    "deletable": true,
    "editable": true
   },
   "outputs": [
    {
     "ename": "SyntaxError",
     "evalue": "invalid syntax (<ipython-input-60-eb35785f49f8>, line 1)",
     "output_type": "error",
     "traceback": [
      "\u001b[0;36m  File \u001b[0;32m\"<ipython-input-60-eb35785f49f8>\"\u001b[0;36m, line \u001b[0;32m1\u001b[0m\n\u001b[0;31m    1:10\u001b[0m\n\u001b[0m     ^\u001b[0m\n\u001b[0;31mSyntaxError\u001b[0m\u001b[0;31m:\u001b[0m invalid syntax\n"
     ]
    }
   ],
   "source": []
  },
  {
   "cell_type": "code",
   "execution_count": 67,
   "metadata": {
    "collapsed": false,
    "deletable": true,
    "editable": true
   },
   "outputs": [
    {
     "data": {
      "image/png": "[encoded data removed]",
      "text/plain": [
       "<matplotlib.figure.Figure at 0x10f844e48>"
      ]
     },
     "metadata": {},
     "output_type": "display_data"
    }
   ],
   "source": [
    "#plt.hist(ls)\n",
    "scale = inner_fc(ls, scale_fc_W1.eval(), scale_fc_b1.eval(), scale_fc_W2.eval(), scale_fc_b2.eval())\n",
    "\n",
    "fig = plt.figure()\n",
    "ax1 = fig.add_subplot(111)\n",
    "\n",
    "ax1.scatter(range(0,50), ls[0:50], s=10, c='b', marker=\"s\", label='norm_2')\n",
    "ax1.scatter(range(0,50), scale[0:50], s=10, c='r', marker=\"o\", label='scale')\n",
    "plt.legend(loc='upper left');\n",
    "plt.show()"
   ]
  },
  {
   "cell_type": "code",
   "execution_count": 72,
   "metadata": {
    "collapsed": false,
    "deletable": true,
    "editable": true
   },
   "outputs": [],
   "source": [
    "weight_new = np.copy(weight)\n",
    "scale = inner_fc(ls, scale_fc_W1.eval(), scale_fc_b1.eval(), scale_fc_W2.eval(), scale_fc_b2.eval())\n",
    "scale = np.array(scale)\n",
    "\n",
    "under_threshold = abs(scale) < 0.9\n",
    "under_threshold_elem = np.zeros(weight.shape, dtype=bool)\n",
    "under_threshold_elem[:,:,:,under_threshold] = True\n",
    "weight_new[under_threshold_elem] = 0\n"
   ]
  },
  {
   "cell_type": "code",
   "execution_count": 76,
   "metadata": {
    "collapsed": false,
    "deletable": true,
    "editable": true
   },
   "outputs": [
    {
     "data": {
      "text/plain": [
       "array([[[ 0.0033489 , -0.00632355,  0.00267829],\n",
       "        [ 0.00984757, -0.0034419 , -0.00912974],\n",
       "        [-0.00625221, -0.00459417, -0.00937479]],\n",
       "\n",
       "       [[ 0.0067835 ,  0.00358712,  0.01203875],\n",
       "        [-0.01005409, -0.00420072,  0.00490256],\n",
       "        [ 0.00819497, -0.00238205, -0.0072473 ]],\n",
       "\n",
       "       [[ 0.0073459 ,  0.00532512, -0.00099793],\n",
       "        [-0.00166094,  0.00516141,  0.00419927],\n",
       "        [ 0.00274921, -0.00613075,  0.00215997]]], dtype=float32)"
      ]
     },
     "execution_count": 76,
     "metadata": {},
     "output_type": "execute_result"
    }
   ],
   "source": [
    "weight_new[:,:,:,3]"
   ]
  },
  {
   "cell_type": "code",
   "execution_count": 2,
   "metadata": {
    "collapsed": false,
    "deletable": true,
    "editable": true
   },
   "outputs": [],
   "source": [
    "def _build_graph():\n",
    "    global_step = tf.contrib.framework.get_or_create_global_step()\n",
    "    batch_data = tf.placeholder(name='data_pl', dtype=tf.float32, shape=(5,)+(32,32,3))\n",
    "    # Calculate logits using training data and vali data seperately\n",
    "    logits = getattr(Model, 'rescale_fc')(batch_data, 100)"
   ]
  },
  {
   "cell_type": "code",
   "execution_count": 3,
   "metadata": {
    "collapsed": false,
    "deletable": true,
    "editable": true
   },
   "outputs": [
    {
     "name": "stdout",
     "output_type": "stream",
     "text": [
      "INFO:tensorflow:Restoring parameters from ./log/prune_model/rescale_fc_Prune_Test_lr_0.0001_wd_100_Sep_23_21_42\n",
      "Pruned model restored from  ./log/prune_model/rescale_fc_Prune_Test_lr_0.0001_wd_100_Sep_23_21_42\n"
     ]
    }
   ],
   "source": [
    "ops.reset_default_graph()\n",
    "sess = tf.InteractiveSession()\n",
    "\n",
    "pruned_model = './log/prune_model/rescale_fc_Prune_Test_lr_0.0001_wd_100_Sep_23_21_42'\n",
    "\n",
    "_build_graph()\n",
    "tflearn_dev.config.init_training_mode()\n",
    "init = tf.global_variables_initializer()\n",
    "sess.run(init)\n",
    "#tflearn_dev.is_training(True)\n",
    "saver = tf.train.Saver(tf.global_variables())\n",
    "saver.restore(sess, pruned_model)\n",
    "print('Pruned model restored from ', pruned_model)"
   ]
  },
  {
   "cell_type": "code",
   "execution_count": 4,
   "metadata": {
    "collapsed": false
   },
   "outputs": [
    {
     "data": {
      "text/plain": [
       "[<tf.Variable 'global_step:0' shape=() dtype=int64_ref>,\n",
       " <tf.Variable 'conv_1/W:0' shape=(3, 3, 3, 128) dtype=float32_ref>,\n",
       " <tf.Variable 'conv_1/scale/fc1/W:0' shape=(128, 4) dtype=float32_ref>,\n",
       " <tf.Variable 'conv_1/scale/fc1/b:0' shape=(4,) dtype=float32_ref>,\n",
       " <tf.Variable 'conv_1/scale/fc2/W:0' shape=(4, 128) dtype=float32_ref>,\n",
       " <tf.Variable 'conv_1/scale/fc2/b:0' shape=(128,) dtype=float32_ref>,\n",
       " <tf.Variable 'conv_1/b:0' shape=(128,) dtype=float32_ref>,\n",
       " <tf.Variable 'conv_2/W:0' shape=(3, 3, 128, 128) dtype=float32_ref>,\n",
       " <tf.Variable 'conv_2/scale/fc1/W:0' shape=(128, 4) dtype=float32_ref>,\n",
       " <tf.Variable 'conv_2/scale/fc1/b:0' shape=(4,) dtype=float32_ref>,\n",
       " <tf.Variable 'conv_2/scale/fc2/W:0' shape=(4, 128) dtype=float32_ref>,\n",
       " <tf.Variable 'conv_2/scale/fc2/b:0' shape=(128,) dtype=float32_ref>,\n",
       " <tf.Variable 'conv_2/b:0' shape=(128,) dtype=float32_ref>,\n",
       " <tf.Variable 'BatchNormalization/beta:0' shape=(128,) dtype=float32_ref>,\n",
       " <tf.Variable 'BatchNormalization/gamma:0' shape=(128,) dtype=float32_ref>,\n",
       " <tf.Variable 'BatchNormalization/moving_mean:0' shape=(128,) dtype=float32_ref>,\n",
       " <tf.Variable 'BatchNormalization/moving_variance:0' shape=(128,) dtype=float32_ref>,\n",
       " <tf.Variable 'BatchNormalization/is_training:0' shape=() dtype=bool_ref>,\n",
       " <tf.Variable 'conv_3/W:0' shape=(3, 3, 128, 256) dtype=float32_ref>,\n",
       " <tf.Variable 'conv_3/scale/fc1/W:0' shape=(256, 8) dtype=float32_ref>,\n",
       " <tf.Variable 'conv_3/scale/fc1/b:0' shape=(8,) dtype=float32_ref>,\n",
       " <tf.Variable 'conv_3/scale/fc2/W:0' shape=(8, 256) dtype=float32_ref>,\n",
       " <tf.Variable 'conv_3/scale/fc2/b:0' shape=(256,) dtype=float32_ref>,\n",
       " <tf.Variable 'conv_3/b:0' shape=(256,) dtype=float32_ref>,\n",
       " <tf.Variable 'conv_4/W:0' shape=(3, 3, 256, 256) dtype=float32_ref>,\n",
       " <tf.Variable 'conv_4/scale/fc1/W:0' shape=(256, 8) dtype=float32_ref>,\n",
       " <tf.Variable 'conv_4/scale/fc1/b:0' shape=(8,) dtype=float32_ref>,\n",
       " <tf.Variable 'conv_4/scale/fc2/W:0' shape=(8, 256) dtype=float32_ref>,\n",
       " <tf.Variable 'conv_4/scale/fc2/b:0' shape=(256,) dtype=float32_ref>,\n",
       " <tf.Variable 'conv_4/b:0' shape=(256,) dtype=float32_ref>,\n",
       " <tf.Variable 'BatchNormalization_1/beta:0' shape=(256,) dtype=float32_ref>,\n",
       " <tf.Variable 'BatchNormalization_1/gamma:0' shape=(256,) dtype=float32_ref>,\n",
       " <tf.Variable 'BatchNormalization_1/moving_mean:0' shape=(256,) dtype=float32_ref>,\n",
       " <tf.Variable 'BatchNormalization_1/moving_variance:0' shape=(256,) dtype=float32_ref>,\n",
       " <tf.Variable 'conv_5/W:0' shape=(3, 3, 256, 512) dtype=float32_ref>,\n",
       " <tf.Variable 'conv_5/scale/fc1/W:0' shape=(512, 16) dtype=float32_ref>,\n",
       " <tf.Variable 'conv_5/scale/fc1/b:0' shape=(16,) dtype=float32_ref>,\n",
       " <tf.Variable 'conv_5/scale/fc2/W:0' shape=(16, 512) dtype=float32_ref>,\n",
       " <tf.Variable 'conv_5/scale/fc2/b:0' shape=(512,) dtype=float32_ref>,\n",
       " <tf.Variable 'conv_5/b:0' shape=(512,) dtype=float32_ref>,\n",
       " <tf.Variable 'conv_6/W:0' shape=(3, 3, 512, 512) dtype=float32_ref>,\n",
       " <tf.Variable 'conv_6/scale/fc1/W:0' shape=(512, 16) dtype=float32_ref>,\n",
       " <tf.Variable 'conv_6/scale/fc1/b:0' shape=(16,) dtype=float32_ref>,\n",
       " <tf.Variable 'conv_6/scale/fc2/W:0' shape=(16, 512) dtype=float32_ref>,\n",
       " <tf.Variable 'conv_6/scale/fc2/b:0' shape=(512,) dtype=float32_ref>,\n",
       " <tf.Variable 'conv_6/b:0' shape=(512,) dtype=float32_ref>,\n",
       " <tf.Variable 'BatchNormalization_2/beta:0' shape=(512,) dtype=float32_ref>,\n",
       " <tf.Variable 'BatchNormalization_2/gamma:0' shape=(512,) dtype=float32_ref>,\n",
       " <tf.Variable 'BatchNormalization_2/moving_mean:0' shape=(512,) dtype=float32_ref>,\n",
       " <tf.Variable 'BatchNormalization_2/moving_variance:0' shape=(512,) dtype=float32_ref>,\n",
       " <tf.Variable 'fc_1/W:0' shape=(8192, 512) dtype=float32_ref>,\n",
       " <tf.Variable 'fc_1/b:0' shape=(512,) dtype=float32_ref>,\n",
       " <tf.Variable 'fc_2/W:0' shape=(512, 10) dtype=float32_ref>,\n",
       " <tf.Variable 'fc_2/b:0' shape=(10,) dtype=float32_ref>]"
      ]
     },
     "execution_count": 4,
     "metadata": {},
     "output_type": "execute_result"
    }
   ],
   "source": [
    "tf.global_variables()"
   ]
  }
 ],
 "metadata": {
  "kernelspec": {
   "display_name": "Python 3",
   "language": "python",
   "name": "python3"
  },
  "language_info": {
   "codemirror_mode": {
    "name": "ipython",
    "version": 3
   },
   "file_extension": ".py",
   "mimetype": "text/x-python",
   "name": "python",
   "nbconvert_exporter": "python",
   "pygments_lexer": "ipython3",
   "version": "3.5.0"
  }
 },
 "nbformat": 4,
 "nbformat_minor": 2
}
